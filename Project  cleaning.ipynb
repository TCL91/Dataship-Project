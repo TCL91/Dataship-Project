{
 "cells": [
  {
   "cell_type": "code",
   "execution_count": 1,
   "metadata": {},
   "outputs": [],
   "source": [
    "import pandas as pd\n",
    "import numpy as np\n",
    "import re as re\n"
   ]
  },
  {
   "cell_type": "code",
   "execution_count": 2,
   "metadata": {},
   "outputs": [
    {
     "name": "stdout",
     "output_type": "stream",
     "text": [
      "<class 'pandas.core.frame.DataFrame'>\n",
      "RangeIndex: 1433 entries, 0 to 1432\n",
      "Data columns (total 63 columns):\n",
      " #   Column                                                                                                                                                                            Non-Null Count  Dtype  \n",
      "---  ------                                                                                                                                                                            --------------  -----  \n",
      " 0   Are you self-employed?                                                                                                                                                            1433 non-null   int64  \n",
      " 1   How many employees does your company or organization have?                                                                                                                        1146 non-null   object \n",
      " 2   Is your employer primarily a tech company/organization?                                                                                                                           1146 non-null   float64\n",
      " 3   Is your primary role within your company related to tech/IT?                                                                                                                      263 non-null    float64\n",
      " 4   Does your employer provide mental health benefits as part of healthcare coverage?                                                                                                 1146 non-null   object \n",
      " 5   Do you know the options for mental health care available under your employer-provided coverage?                                                                                   1013 non-null   object \n",
      " 6   Has your employer ever formally discussed mental health (for example, as part of a wellness campaign or other official communication)?                                            1146 non-null   object \n",
      " 7   Does your employer offer resources to learn more about mental health concerns and options for seeking help?                                                                       1146 non-null   object \n",
      " 8   Is your anonymity protected if you choose to take advantage of mental health or substance abuse treatment resources provided by your employer?                                    1146 non-null   object \n",
      " 9   If a mental health issue prompted you to request a medical leave from work, asking for that leave would be:                                                                       1146 non-null   object \n",
      " 10  Do you think that discussing a mental health disorder with your employer would have negative consequences?                                                                        1146 non-null   object \n",
      " 11  Do you think that discussing a physical health issue with your employer would have negative consequences?                                                                         1146 non-null   object \n",
      " 12  Would you feel comfortable discussing a mental health disorder with your coworkers?                                                                                               1146 non-null   object \n",
      " 13  Would you feel comfortable discussing a mental health disorder with your direct supervisor(s)?                                                                                    1146 non-null   object \n",
      " 14  Do you feel that your employer takes mental health as seriously as physical health?                                                                                               1146 non-null   object \n",
      " 15  Have you heard of or observed negative consequences for co-workers who have been open about mental health issues in your workplace?                                               1146 non-null   object \n",
      " 16  Do you have medical coverage (private insurance or state-provided) which includes treatment of  mental health issues?                                                             287 non-null    float64\n",
      " 17  Do you know local or online resources to seek help for a mental health disorder?                                                                                                  287 non-null    object \n",
      " 18  If you have been diagnosed or treated for a mental health disorder, do you ever reveal this to clients or business contacts?                                                      287 non-null    object \n",
      " 19  If you have revealed a mental health issue to a client or business contact, do you believe this has impacted you negatively?                                                      144 non-null    object \n",
      " 20  If you have been diagnosed or treated for a mental health disorder, do you ever reveal this to coworkers or employees?                                                            287 non-null    object \n",
      " 21  If you have revealed a mental health issue to a coworker or employee, do you believe this has impacted you negatively?                                                            287 non-null    object \n",
      " 22  Do you believe your productivity is ever affected by a mental health issue?                                                                                                       287 non-null    object \n",
      " 23  If yes, what percentage of your work time (time performing primary or secondary job functions) is affected by a mental health issue?                                              204 non-null    object \n",
      " 24  Do you have previous employers?                                                                                                                                                   1433 non-null   int64  \n",
      " 25  Have your previous employers provided mental health benefits?                                                                                                                     1264 non-null   object \n",
      " 26  Were you aware of the options for mental health care provided by your previous employers?                                                                                         1264 non-null   object \n",
      " 27  Did your previous employers ever formally discuss mental health (as part of a wellness campaign or other official communication)?                                                 1264 non-null   object \n",
      " 28  Did your previous employers provide resources to learn more about mental health issues and how to seek help?                                                                      1264 non-null   object \n",
      " 29  Was your anonymity protected if you chose to take advantage of mental health or substance abuse treatment resources with previous employers?                                      1264 non-null   object \n",
      " 30  Do you think that discussing a mental health disorder with previous employers would have negative consequences?                                                                   1264 non-null   object \n",
      " 31  Do you think that discussing a physical health issue with previous employers would have negative consequences?                                                                    1264 non-null   object \n",
      " 32  Would you have been willing to discuss a mental health issue with your previous co-workers?                                                                                       1264 non-null   object \n",
      " 33  Would you have been willing to discuss a mental health issue with your direct supervisor(s)?                                                                                      1264 non-null   object \n",
      " 34  Did you feel that your previous employers took mental health as seriously as physical health?                                                                                     1264 non-null   object \n",
      " 35  Did you hear of or observe negative consequences for co-workers with mental health issues in your previous workplaces?                                                            1264 non-null   object \n",
      " 36  Would you be willing to bring up a physical health issue with a potential employer in an interview?                                                                               1433 non-null   object \n",
      " 37  Why or why not?                                                                                                                                                                   1095 non-null   object \n",
      " 38  Would you bring up a mental health issue with a potential employer in an interview?                                                                                               1433 non-null   object \n",
      " 39  Why or why not?.1                                                                                                                                                                 1126 non-null   object \n",
      " 40  Do you feel that being identified as a person with a mental health issue would hurt your career?                                                                                  1433 non-null   object \n",
      " 41  Do you think that team members/co-workers would view you more negatively if they knew you suffered from a mental health issue?                                                    1433 non-null   object \n",
      " 42  How willing would you be to share with friends and family that you have a mental illness?                                                                                         1433 non-null   object \n",
      " 43  Have you observed or experienced an unsupportive or badly handled response to a mental health issue in your current or previous workplace?                                        1344 non-null   object \n",
      " 44  Have your observations of how another individual who discussed a mental health disorder made you less likely to reveal a mental health issue yourself in your current workplace?  657 non-null    object \n",
      " 45  Do you have a family history of mental illness?                                                                                                                                   1433 non-null   object \n",
      " 46  Have you had a mental health disorder in the past?                                                                                                                                1433 non-null   object \n",
      " 47  Do you currently have a mental health disorder?                                                                                                                                   1433 non-null   object \n",
      " 48  If yes, what condition(s) have you been diagnosed with?                                                                                                                           568 non-null    object \n",
      " 49  If maybe, what condition(s) do you believe you have?                                                                                                                              322 non-null    object \n",
      " 50  Have you been diagnosed with a mental health condition by a medical professional?                                                                                                 1433 non-null   object \n",
      " 51  If so, what condition(s) were you diagnosed with?                                                                                                                                 711 non-null    object \n",
      " 52  Have you ever sought treatment for a mental health issue from a mental health professional?                                                                                       1433 non-null   int64  \n",
      " 53  If you have a mental health issue, do you feel that it interferes with your work when being treated effectively?                                                                  1433 non-null   object \n",
      " 54  If you have a mental health issue, do you feel that it interferes with your work when NOT being treated effectively?                                                              1433 non-null   object \n",
      " 55  What is your age?                                                                                                                                                                 1433 non-null   int64  \n",
      " 56  What is your gender?                                                                                                                                                              1430 non-null   object \n",
      " 57  What country do you live in?                                                                                                                                                      1433 non-null   object \n",
      " 58  What US state or territory do you live in?                                                                                                                                        840 non-null    object \n",
      " 59  What country do you work in?                                                                                                                                                      1433 non-null   object \n",
      " 60  What US state or territory do you work in?                                                                                                                                        851 non-null    object \n",
      " 61  Which of the following best describes your work position?                                                                                                                         1433 non-null   object \n",
      " 62  Do you work remotely?                                                                                                                                                             1433 non-null   object \n",
      "dtypes: float64(3), int64(4), object(56)\n",
      "memory usage: 705.4+ KB\n"
     ]
    }
   ],
   "source": [
    "mh = pd.read_csv('survey2016.csv', sep=',')\n",
    "mh2 = pd.read_csv('survey2016-Category.csv')\n",
    "mh.info()\n",
    "# mh.columns\n"
   ]
  },
  {
   "cell_type": "code",
   "execution_count": 3,
   "metadata": {},
   "outputs": [],
   "source": [
    "# for column in mh:\n",
    "#     print(column)\n",
    "#     mh_uniques = mh[column].unique()\n",
    "#     print('Column Name : ', column)\n",
    "#     print('Column Contents : ', mh_uniques)"
   ]
  },
  {
   "cell_type": "code",
   "execution_count": 4,
   "metadata": {},
   "outputs": [
    {
     "data": {
      "text/plain": [
       "array([0, 1], dtype=int64)"
      ]
     },
     "execution_count": 4,
     "metadata": {},
     "output_type": "execute_result"
    }
   ],
   "source": [
    "mh['Are you self-employed?'].unique()"
   ]
  },
  {
   "cell_type": "code",
   "execution_count": 5,
   "metadata": {},
   "outputs": [
    {
     "name": "stdout",
     "output_type": "stream",
     "text": [
      "['26-100' '45102' nan 'More than 1000' '100-500' '500-1000' '44931']\n",
      "['Small' nan 'Large' 'Medium']\n"
     ]
    }
   ],
   "source": [
    "x = mh.columns.get_loc('How many employees does your company or organization have?')\n",
    "# print(x)    \n",
    "print(mh.iloc[:,x].unique())  \n",
    "mh.iloc[:,x].astype(str)\n",
    "mh.iloc[:,x] = mh.iloc[:,x].str.replace('26-100', 'Small')\n",
    "mh.iloc[:,x] = mh.iloc[:,x].str.replace('1-5', 'Small')\n",
    "mh.iloc[:,x] = mh.iloc[:,x].str.replace('100-500', 'Medium')\n",
    "mh.iloc[:,x] = mh.iloc[:,x].str.replace('500-1000', 'Medium')\n",
    "mh.iloc[:,x] = mh.iloc[:,x].str.replace('More than 1000', 'Large')\n",
    "mh.iloc[:,x] = mh.iloc[:,x].replace('45102', np.nan)\n",
    "mh.iloc[:,x] = mh.iloc[:,x].replace('44931', np.nan)\n",
    "\n",
    "mh.head(50)\n",
    "\n",
    "print(mh.iloc[:,x].unique())  \n",
    "# mh.head(50)\n",
    "\n",
    "# mh['How many employees does your company or organization have?'].replace(to_replace=dict(26-100='M'), inplace=True)\n"
   ]
  },
  {
   "cell_type": "code",
   "execution_count": 6,
   "metadata": {},
   "outputs": [
    {
     "data": {
      "text/plain": [
       "array([ 1., nan,  0.])"
      ]
     },
     "execution_count": 6,
     "metadata": {},
     "output_type": "execute_result"
    }
   ],
   "source": [
    "mh['Is your employer primarily a tech company/organization?'].unique()"
   ]
  },
  {
   "cell_type": "code",
   "execution_count": 7,
   "metadata": {},
   "outputs": [
    {
     "data": {
      "text/plain": [
       "array([nan,  1.,  0.])"
      ]
     },
     "execution_count": 7,
     "metadata": {},
     "output_type": "execute_result"
    }
   ],
   "source": [
    "mh['Is your primary role within your company related to tech/IT?'].unique()"
   ]
  },
  {
   "cell_type": "code",
   "execution_count": 8,
   "metadata": {},
   "outputs": [
    {
     "name": "stdout",
     "output_type": "stream",
     "text": [
      "['Not eligible for coverage / N/A' 'No' nan 'Yes' \"I don't know\"]\n",
      "['N/A' 0 nan 1 'DK']\n"
     ]
    },
    {
     "data": {
      "text/html": [
       "<div>\n",
       "<style scoped>\n",
       "    .dataframe tbody tr th:only-of-type {\n",
       "        vertical-align: middle;\n",
       "    }\n",
       "\n",
       "    .dataframe tbody tr th {\n",
       "        vertical-align: top;\n",
       "    }\n",
       "\n",
       "    .dataframe thead th {\n",
       "        text-align: right;\n",
       "    }\n",
       "</style>\n",
       "<table border=\"1\" class=\"dataframe\">\n",
       "  <thead>\n",
       "    <tr style=\"text-align: right;\">\n",
       "      <th></th>\n",
       "      <th>Are you self-employed?</th>\n",
       "      <th>How many employees does your company or organization have?</th>\n",
       "      <th>Is your employer primarily a tech company/organization?</th>\n",
       "      <th>Is your primary role within your company related to tech/IT?</th>\n",
       "      <th>Does your employer provide mental health benefits as part of healthcare coverage?</th>\n",
       "      <th>Do you know the options for mental health care available under your employer-provided coverage?</th>\n",
       "      <th>Has your employer ever formally discussed mental health (for example, as part of a wellness campaign or other official communication)?</th>\n",
       "      <th>Does your employer offer resources to learn more about mental health concerns and options for seeking help?</th>\n",
       "      <th>Is your anonymity protected if you choose to take advantage of mental health or substance abuse treatment resources provided by your employer?</th>\n",
       "      <th>If a mental health issue prompted you to request a medical leave from work, asking for that leave would be:</th>\n",
       "      <th>...</th>\n",
       "      <th>If you have a mental health issue, do you feel that it interferes with your work when being treated effectively?</th>\n",
       "      <th>If you have a mental health issue, do you feel that it interferes with your work when NOT being treated effectively?</th>\n",
       "      <th>What is your age?</th>\n",
       "      <th>What is your gender?</th>\n",
       "      <th>What country do you live in?</th>\n",
       "      <th>What US state or territory do you live in?</th>\n",
       "      <th>What country do you work in?</th>\n",
       "      <th>What US state or territory do you work in?</th>\n",
       "      <th>Which of the following best describes your work position?</th>\n",
       "      <th>Do you work remotely?</th>\n",
       "    </tr>\n",
       "  </thead>\n",
       "  <tbody>\n",
       "    <tr>\n",
       "      <th>0</th>\n",
       "      <td>0</td>\n",
       "      <td>Small</td>\n",
       "      <td>1.0</td>\n",
       "      <td>NaN</td>\n",
       "      <td>N/A</td>\n",
       "      <td>NaN</td>\n",
       "      <td>No</td>\n",
       "      <td>No</td>\n",
       "      <td>I don't know</td>\n",
       "      <td>Very easy</td>\n",
       "      <td>...</td>\n",
       "      <td>Not applicable to me</td>\n",
       "      <td>Not applicable to me</td>\n",
       "      <td>39</td>\n",
       "      <td>Male</td>\n",
       "      <td>United Kingdom</td>\n",
       "      <td>NaN</td>\n",
       "      <td>United Kingdom</td>\n",
       "      <td>NaN</td>\n",
       "      <td>Back-end Developer</td>\n",
       "      <td>Sometimes</td>\n",
       "    </tr>\n",
       "    <tr>\n",
       "      <th>1</th>\n",
       "      <td>0</td>\n",
       "      <td>NaN</td>\n",
       "      <td>1.0</td>\n",
       "      <td>NaN</td>\n",
       "      <td>0</td>\n",
       "      <td>Yes</td>\n",
       "      <td>Yes</td>\n",
       "      <td>Yes</td>\n",
       "      <td>Yes</td>\n",
       "      <td>Somewhat easy</td>\n",
       "      <td>...</td>\n",
       "      <td>Rarely</td>\n",
       "      <td>Sometimes</td>\n",
       "      <td>29</td>\n",
       "      <td>male</td>\n",
       "      <td>United States of America</td>\n",
       "      <td>Illinois</td>\n",
       "      <td>United States of America</td>\n",
       "      <td>Illinois</td>\n",
       "      <td>Back-end Developer|Front-end Developer</td>\n",
       "      <td>Never</td>\n",
       "    </tr>\n",
       "    <tr>\n",
       "      <th>2</th>\n",
       "      <td>0</td>\n",
       "      <td>NaN</td>\n",
       "      <td>1.0</td>\n",
       "      <td>NaN</td>\n",
       "      <td>0</td>\n",
       "      <td>NaN</td>\n",
       "      <td>No</td>\n",
       "      <td>No</td>\n",
       "      <td>I don't know</td>\n",
       "      <td>Neither easy nor difficult</td>\n",
       "      <td>...</td>\n",
       "      <td>Not applicable to me</td>\n",
       "      <td>Not applicable to me</td>\n",
       "      <td>38</td>\n",
       "      <td>Male</td>\n",
       "      <td>United Kingdom</td>\n",
       "      <td>NaN</td>\n",
       "      <td>United Kingdom</td>\n",
       "      <td>NaN</td>\n",
       "      <td>Back-end Developer</td>\n",
       "      <td>Always</td>\n",
       "    </tr>\n",
       "    <tr>\n",
       "      <th>3</th>\n",
       "      <td>1</td>\n",
       "      <td>NaN</td>\n",
       "      <td>NaN</td>\n",
       "      <td>NaN</td>\n",
       "      <td>NaN</td>\n",
       "      <td>NaN</td>\n",
       "      <td>NaN</td>\n",
       "      <td>NaN</td>\n",
       "      <td>NaN</td>\n",
       "      <td>NaN</td>\n",
       "      <td>...</td>\n",
       "      <td>Sometimes</td>\n",
       "      <td>Sometimes</td>\n",
       "      <td>43</td>\n",
       "      <td>male</td>\n",
       "      <td>United Kingdom</td>\n",
       "      <td>NaN</td>\n",
       "      <td>United Kingdom</td>\n",
       "      <td>NaN</td>\n",
       "      <td>Supervisor/Team Lead</td>\n",
       "      <td>Sometimes</td>\n",
       "    </tr>\n",
       "    <tr>\n",
       "      <th>4</th>\n",
       "      <td>0</td>\n",
       "      <td>NaN</td>\n",
       "      <td>0.0</td>\n",
       "      <td>1.0</td>\n",
       "      <td>1</td>\n",
       "      <td>Yes</td>\n",
       "      <td>No</td>\n",
       "      <td>No</td>\n",
       "      <td>No</td>\n",
       "      <td>Neither easy nor difficult</td>\n",
       "      <td>...</td>\n",
       "      <td>Sometimes</td>\n",
       "      <td>Sometimes</td>\n",
       "      <td>43</td>\n",
       "      <td>Female</td>\n",
       "      <td>United States of America</td>\n",
       "      <td>Illinois</td>\n",
       "      <td>United States of America</td>\n",
       "      <td>Illinois</td>\n",
       "      <td>Executive Leadership|Supervisor/Team Lead|Dev ...</td>\n",
       "      <td>Sometimes</td>\n",
       "    </tr>\n",
       "  </tbody>\n",
       "</table>\n",
       "<p>5 rows × 63 columns</p>\n",
       "</div>"
      ],
      "text/plain": [
       "   Are you self-employed?  \\\n",
       "0                       0   \n",
       "1                       0   \n",
       "2                       0   \n",
       "3                       1   \n",
       "4                       0   \n",
       "\n",
       "  How many employees does your company or organization have?  \\\n",
       "0                                              Small           \n",
       "1                                                NaN           \n",
       "2                                                NaN           \n",
       "3                                                NaN           \n",
       "4                                                NaN           \n",
       "\n",
       "   Is your employer primarily a tech company/organization?  \\\n",
       "0                                                1.0         \n",
       "1                                                1.0         \n",
       "2                                                1.0         \n",
       "3                                                NaN         \n",
       "4                                                0.0         \n",
       "\n",
       "   Is your primary role within your company related to tech/IT?  \\\n",
       "0                                                NaN              \n",
       "1                                                NaN              \n",
       "2                                                NaN              \n",
       "3                                                NaN              \n",
       "4                                                1.0              \n",
       "\n",
       "  Does your employer provide mental health benefits as part of healthcare coverage?  \\\n",
       "0                                                N/A                                  \n",
       "1                                                  0                                  \n",
       "2                                                  0                                  \n",
       "3                                                NaN                                  \n",
       "4                                                  1                                  \n",
       "\n",
       "  Do you know the options for mental health care available under your employer-provided coverage?  \\\n",
       "0                                                NaN                                                \n",
       "1                                                Yes                                                \n",
       "2                                                NaN                                                \n",
       "3                                                NaN                                                \n",
       "4                                                Yes                                                \n",
       "\n",
       "  Has your employer ever formally discussed mental health (for example, as part of a wellness campaign or other official communication)?  \\\n",
       "0                                                 No                                                                                       \n",
       "1                                                Yes                                                                                       \n",
       "2                                                 No                                                                                       \n",
       "3                                                NaN                                                                                       \n",
       "4                                                 No                                                                                       \n",
       "\n",
       "  Does your employer offer resources to learn more about mental health concerns and options for seeking help?  \\\n",
       "0                                                 No                                                            \n",
       "1                                                Yes                                                            \n",
       "2                                                 No                                                            \n",
       "3                                                NaN                                                            \n",
       "4                                                 No                                                            \n",
       "\n",
       "  Is your anonymity protected if you choose to take advantage of mental health or substance abuse treatment resources provided by your employer?  \\\n",
       "0                                       I don't know                                                                                               \n",
       "1                                                Yes                                                                                               \n",
       "2                                       I don't know                                                                                               \n",
       "3                                                NaN                                                                                               \n",
       "4                                                 No                                                                                               \n",
       "\n",
       "  If a mental health issue prompted you to request a medical leave from work, asking for that leave would be:  \\\n",
       "0                                          Very easy                                                            \n",
       "1                                      Somewhat easy                                                            \n",
       "2                         Neither easy nor difficult                                                            \n",
       "3                                                NaN                                                            \n",
       "4                         Neither easy nor difficult                                                            \n",
       "\n",
       "   ...  \\\n",
       "0  ...   \n",
       "1  ...   \n",
       "2  ...   \n",
       "3  ...   \n",
       "4  ...   \n",
       "\n",
       "  If you have a mental health issue, do you feel that it interferes with your work when being treated effectively?  \\\n",
       "0                               Not applicable to me                                                                 \n",
       "1                                             Rarely                                                                 \n",
       "2                               Not applicable to me                                                                 \n",
       "3                                          Sometimes                                                                 \n",
       "4                                          Sometimes                                                                 \n",
       "\n",
       "  If you have a mental health issue, do you feel that it interferes with your work when NOT being treated effectively?  \\\n",
       "0                               Not applicable to me                                                                     \n",
       "1                                          Sometimes                                                                     \n",
       "2                               Not applicable to me                                                                     \n",
       "3                                          Sometimes                                                                     \n",
       "4                                          Sometimes                                                                     \n",
       "\n",
       "  What is your age? What is your gender? What country do you live in?  \\\n",
       "0                39                 Male               United Kingdom   \n",
       "1                29                 male     United States of America   \n",
       "2                38                Male                United Kingdom   \n",
       "3                43                 male               United Kingdom   \n",
       "4                43               Female     United States of America   \n",
       "\n",
       "  What US state or territory do you live in?  What country do you work in?  \\\n",
       "0                                        NaN                United Kingdom   \n",
       "1                                   Illinois      United States of America   \n",
       "2                                        NaN                United Kingdom   \n",
       "3                                        NaN                United Kingdom   \n",
       "4                                   Illinois      United States of America   \n",
       "\n",
       "  What US state or territory do you work in?  \\\n",
       "0                                        NaN   \n",
       "1                                   Illinois   \n",
       "2                                        NaN   \n",
       "3                                        NaN   \n",
       "4                                   Illinois   \n",
       "\n",
       "  Which of the following best describes your work position?  \\\n",
       "0                                 Back-end Developer          \n",
       "1             Back-end Developer|Front-end Developer          \n",
       "2                                 Back-end Developer          \n",
       "3                               Supervisor/Team Lead          \n",
       "4  Executive Leadership|Supervisor/Team Lead|Dev ...          \n",
       "\n",
       "  Do you work remotely?  \n",
       "0             Sometimes  \n",
       "1                 Never  \n",
       "2                Always  \n",
       "3             Sometimes  \n",
       "4             Sometimes  \n",
       "\n",
       "[5 rows x 63 columns]"
      ]
     },
     "execution_count": 8,
     "metadata": {},
     "output_type": "execute_result"
    }
   ],
   "source": [
    "x = mh.columns.get_loc('Does your employer provide mental health benefits as part of healthcare coverage?')\n",
    "# print(x)    \n",
    "\n",
    "print(mh.iloc[:,x].unique())   \n",
    "mh.iloc[:,x] = mh.iloc[:,x].replace('Not eligible for coverage / N/A', 'N/A')\n",
    "mh.iloc[:,x] = mh.iloc[:,x].replace('No', 0)\n",
    "mh.iloc[:,x] = mh.iloc[:,x].replace('Yes', 1)\n",
    "mh.iloc[:,x] = mh.iloc[:,x].replace(\"I don't know\", 'DK')\n",
    "print(mh.iloc[:,x].unique()) \n",
    "\n",
    "\n",
    "mh.head()\n",
    "\n",
    "\n"
   ]
  },
  {
   "cell_type": "code",
   "execution_count": 9,
   "metadata": {},
   "outputs": [
    {
     "name": "stdout",
     "output_type": "stream",
     "text": [
      "[nan 'Yes' 'I am not sure' 'No']\n",
      "[nan 1 'DK' 0]\n"
     ]
    }
   ],
   "source": [
    "x = mh.columns.get_loc('Do you know the options for mental health care available under your employer-provided coverage?')\n",
    "# print(x)    \n",
    "print(mh.iloc[:,x].unique())   \n",
    "mh.iloc[:,x] = mh.iloc[:,x].replace('No', 0)\n",
    "mh.iloc[:,x] = mh.iloc[:,x].replace('Yes', 1)\n",
    "mh.iloc[:,x] = mh.iloc[:,x].replace('I am not sure', 'DK')\n",
    "print(mh.iloc[:,x].unique()) "
   ]
  },
  {
   "cell_type": "code",
   "execution_count": 10,
   "metadata": {},
   "outputs": [
    {
     "name": "stdout",
     "output_type": "stream",
     "text": [
      "['No' 'Yes' nan \"I don't know\"]\n",
      "[0 1 nan 'DK']\n"
     ]
    }
   ],
   "source": [
    "x = mh.columns.get_loc('Has your employer ever formally discussed mental health (for example, as part of a wellness campaign or other official communication)?')\n",
    "# print(x)    \n",
    "\n",
    "print(mh.iloc[:,x].unique())   \n",
    "mh.iloc[:,x] = mh.iloc[:,x].replace('No', 0)\n",
    "mh.iloc[:,x] = mh.iloc[:,x].replace('Yes', 1)\n",
    "mh.iloc[:,x] = mh.iloc[:,x].replace(\"I don't know\", 'DK')\n",
    "print(mh.iloc[:,x].unique()) "
   ]
  },
  {
   "cell_type": "code",
   "execution_count": 11,
   "metadata": {},
   "outputs": [
    {
     "name": "stdout",
     "output_type": "stream",
     "text": [
      "['No' 'Yes' nan \"I don't know\"]\n",
      "[0 1 nan 'DK']\n"
     ]
    }
   ],
   "source": [
    "x = mh.columns.get_loc('Does your employer offer resources to learn more about mental health concerns and options for seeking help?')\n",
    "# print(x)    \n",
    "print(mh.iloc[:,x].unique())   \n",
    "mh.iloc[:,x] = mh.iloc[:,x].replace('No', 0)\n",
    "mh.iloc[:,x] = mh.iloc[:,x].replace('Yes', 1)\n",
    "mh.iloc[:,x] = mh.iloc[:,x].replace(\"I don't know\", 'DK')\n",
    "print(mh.iloc[:,x].unique()) \n"
   ]
  },
  {
   "cell_type": "code",
   "execution_count": 12,
   "metadata": {},
   "outputs": [
    {
     "name": "stdout",
     "output_type": "stream",
     "text": [
      "[\"I don't know\" 'Yes' nan 'No']\n",
      "['DK' 1 nan 0]\n"
     ]
    }
   ],
   "source": [
    "x = mh.columns.get_loc('Is your anonymity protected if you choose to take advantage of mental health or substance abuse treatment resources provided by your employer?')\n",
    "# print(x)    \n",
    "print(mh.iloc[:,x].unique())   \n",
    "mh.iloc[:,x] = mh.iloc[:,x].replace('No', 0)\n",
    "mh.iloc[:,x] = mh.iloc[:,x].replace('Yes', 1)\n",
    "mh.iloc[:,x] = mh.iloc[:,x].replace(\"I don't know\", 'DK')\n",
    "print(mh.iloc[:,x].unique()) \n"
   ]
  },
  {
   "cell_type": "code",
   "execution_count": 13,
   "metadata": {},
   "outputs": [
    {
     "name": "stdout",
     "output_type": "stream",
     "text": [
      "['Very easy' 'Somewhat easy' 'Neither easy nor difficult' nan\n",
      " 'Very difficult' 'Somewhat difficult' \"I don't know\"]\n",
      "[1 2 3 nan 5 4 'DK']\n"
     ]
    }
   ],
   "source": [
    "x = mh.columns.get_loc('If a mental health issue prompted you to request a medical leave from work, asking for that leave would be:')\n",
    "# print(x)\n",
    "\n",
    "print(mh.iloc[:,x].unique())\n",
    "# print(mh.iloc[:,x].unique())  \n",
    "mh.iloc[:,x] = mh.iloc[:,x].replace('Very easy', 1)\n",
    "mh.iloc[:,x] = mh.iloc[:,x].replace('Somewhat easy', 2)\n",
    "mh.iloc[:,x] = mh.iloc[:,x].replace('Neither easy nor difficult', 3)\n",
    "mh.iloc[:,x] = mh.iloc[:,x].replace('Somewhat difficult', 4)\n",
    "mh.iloc[:,x] = mh.iloc[:,x].replace('Very difficult', 5)\n",
    "mh.iloc[:,x] = mh.iloc[:,x].replace(\"I don't know\", 'DK')\n",
    "print(mh.iloc[:,x].unique())\n"
   ]
  },
  {
   "cell_type": "code",
   "execution_count": 14,
   "metadata": {},
   "outputs": [
    {
     "name": "stdout",
     "output_type": "stream",
     "text": [
      "['No' 'Maybe' nan 'Yes']\n",
      "[0 'Maybe' nan 1]\n"
     ]
    }
   ],
   "source": [
    "x = mh.columns.get_loc('Do you think that discussing a mental health disorder with your employer would have negative consequences?')\n",
    "# print(x)    \n",
    "print(mh.iloc[:,x].unique())   \n",
    "mh.iloc[:,x] = mh.iloc[:,x].replace('No', 0)\n",
    "mh.iloc[:,x] = mh.iloc[:,x].replace('Yes', 1)\n",
    "print(mh.iloc[:,x].unique()) \n"
   ]
  },
  {
   "cell_type": "code",
   "execution_count": 15,
   "metadata": {},
   "outputs": [
    {
     "name": "stdout",
     "output_type": "stream",
     "text": [
      "['No' nan 'Maybe' 'Yes']\n",
      "[0 nan 'Maybe' 1]\n"
     ]
    }
   ],
   "source": [
    "x = mh.columns.get_loc('Do you think that discussing a physical health issue with your employer would have negative consequences?')\n",
    "# print(x)    \n",
    "print(mh.iloc[:,x].unique())   \n",
    "mh.iloc[:,x] = mh.iloc[:,x].replace('No', 0)\n",
    "mh.iloc[:,x] = mh.iloc[:,x].replace('Yes', 1)\n",
    "print(mh.iloc[:,x].unique()) \n"
   ]
  },
  {
   "cell_type": "code",
   "execution_count": 16,
   "metadata": {},
   "outputs": [
    {
     "name": "stdout",
     "output_type": "stream",
     "text": [
      "['Maybe' nan 'Yes' 'No']\n",
      "['Maybe' nan 1 0]\n"
     ]
    }
   ],
   "source": [
    "x = mh.columns.get_loc('Would you feel comfortable discussing a mental health disorder with your coworkers?')\n",
    "# print(x)    \n",
    "\n",
    "print(mh.iloc[:,x].unique())   \n",
    "mh.iloc[:,x] = mh.iloc[:,x].replace('No', 0)\n",
    "mh.iloc[:,x] = mh.iloc[:,x].replace('Yes', 1)\n",
    "print(mh.iloc[:,x].unique()) \n"
   ]
  },
  {
   "cell_type": "code",
   "execution_count": 17,
   "metadata": {},
   "outputs": [
    {
     "name": "stdout",
     "output_type": "stream",
     "text": [
      "['Yes' 'Maybe' nan 'No']\n",
      "[1 'Maybe' nan 0]\n"
     ]
    }
   ],
   "source": [
    "x = mh.columns.get_loc('Would you feel comfortable discussing a mental health disorder with your direct supervisor(s)?')\n",
    "# print(x)    \n",
    "\n",
    "print(mh.iloc[:,x].unique())   \n",
    "mh.iloc[:,x] = mh.iloc[:,x].replace('No', 0)\n",
    "mh.iloc[:,x] = mh.iloc[:,x].replace('Yes', 1)\n",
    "print(mh.iloc[:,x].unique()) \n"
   ]
  },
  {
   "cell_type": "code",
   "execution_count": 18,
   "metadata": {},
   "outputs": [
    {
     "name": "stdout",
     "output_type": "stream",
     "text": [
      "[\"I don't know\" 'Yes' nan 'No']\n",
      "['DK' 1 nan 0]\n"
     ]
    }
   ],
   "source": [
    "x = mh.columns.get_loc('Do you feel that your employer takes mental health as seriously as physical health?')\n",
    "# print(x)    \n",
    "\n",
    "print(mh.iloc[:,x].unique())   \n",
    "mh.iloc[:,x] = mh.iloc[:,x].replace('No', 0)\n",
    "mh.iloc[:,x] = mh.iloc[:,x].replace('Yes', 1)\n",
    "mh.iloc[:,x] = mh.iloc[:,x].replace(\"I don't know\", 'DK')\n",
    "print(mh.iloc[:,x].unique()) \n"
   ]
  },
  {
   "cell_type": "code",
   "execution_count": 19,
   "metadata": {},
   "outputs": [
    {
     "name": "stdout",
     "output_type": "stream",
     "text": [
      "['No' nan 'Yes']\n",
      "[0.0 nan 1.0]\n"
     ]
    }
   ],
   "source": [
    "x = mh.columns.get_loc('Have you heard of or observed negative consequences for co-workers who have been open about mental health issues in your workplace?')\n",
    "# print(x)    \n",
    "\n",
    "print(mh.iloc[:,x].unique())   \n",
    "mh.iloc[:,x] = mh.iloc[:,x].replace('No', 0)\n",
    "mh.iloc[:,x] = mh.iloc[:,x].replace('Yes', 1)\n",
    "print(mh.iloc[:,x].unique()) \n",
    "\n",
    "# mh.head()\n"
   ]
  },
  {
   "cell_type": "code",
   "execution_count": 20,
   "metadata": {},
   "outputs": [
    {
     "name": "stdout",
     "output_type": "stream",
     "text": [
      "Do you have medical coverage (private insurance or state-provided) which includes treatment of  mental health issues?\n",
      "Do you have medical coverage (private insurance or state-provided) which includes treatment of  mental health issues?\n",
      "[nan  1.  0.]\n"
     ]
    }
   ],
   "source": [
    "t =  'Do you have medical coverage (private insurance or state-provided) which includes treatment of  mental health issues?'\n",
    "print(t)\n",
    "print(mh.columns[16])\n",
    "print(mh.iloc[:,16].unique())\n",
    "\n",
    "\n"
   ]
  },
  {
   "cell_type": "code",
   "execution_count": 21,
   "metadata": {},
   "outputs": [
    {
     "name": "stdout",
     "output_type": "stream",
     "text": [
      "[nan 'Yes, I know several' 'I know some' \"No, I don't know any\"]\n",
      "[nan 1.0 0.0]\n"
     ]
    }
   ],
   "source": [
    "x = mh.columns.get_loc('Do you know local or online resources to seek help for a mental health disorder?')\n",
    "print(mh.iloc[:,x].unique())\n",
    "mh.iloc[:,x] = mh.iloc[:,x].replace('Yes, I know several', 1)\n",
    "mh.iloc[:,x] = mh.iloc[:,x].replace('I know some', 1)\n",
    "mh.iloc[:,x] = mh.iloc[:,x].replace('No, I don\\'t know any', 0)\n",
    "print(mh.iloc[:,x].unique())"
   ]
  },
  {
   "cell_type": "code",
   "execution_count": 22,
   "metadata": {},
   "outputs": [
    {
     "name": "stdout",
     "output_type": "stream",
     "text": [
      "[nan 'Sometimes, if it comes up' \"No, because it doesn't matter\"\n",
      " 'No, because it would impact me negatively' 'Not applicable to me'\n",
      " 'Yes, always']\n",
      "[nan '1' '0' 'N/A']\n"
     ]
    }
   ],
   "source": [
    "x = mh.columns.get_loc('If you have been diagnosed or treated for a mental health disorder, do you ever reveal this to clients or business contacts?')\n",
    "\n",
    "print(mh.iloc[:,x].unique())\n",
    "mh.iloc[:,x] = mh.iloc[:,x].replace('Sometimes, if it comes up','1')\n",
    "mh.iloc[:,x] = mh.iloc[:,x].replace(\"No, because it doesn't matter\",'0')\n",
    "mh.iloc[:,x] = mh.iloc[:,x].replace('No, because it would impact me negatively','0')\n",
    "mh.iloc[:,x] = mh.iloc[:,x].replace('Not applicable to me','N/A')\n",
    "mh.iloc[:,x] = mh.iloc[:,x].replace('Yes, always','1')\n",
    "print(mh.iloc[:,x].unique())"
   ]
  },
  {
   "cell_type": "code",
   "execution_count": 23,
   "metadata": {},
   "outputs": [
    {
     "name": "stdout",
     "output_type": "stream",
     "text": [
      "[nan \"I'm not sure\" 'Yes' 'No']\n",
      "[nan 'DK' 1 0]\n"
     ]
    }
   ],
   "source": [
    "x = mh.columns.get_loc('If you have revealed a mental health issue to a client or business contact, do you believe this has impacted you negatively?')\n",
    "# print(x)    \n",
    "\n",
    "print(mh.iloc[:,x].unique())   \n",
    "mh.iloc[:,x] = mh.iloc[:,x].replace('No', 0)\n",
    "mh.iloc[:,x] = mh.iloc[:,x].replace('Yes', 1)\n",
    "mh.iloc[:,x] = mh.iloc[:,x].replace(\"I'm not sure\", 'DK')\n",
    "print(mh.iloc[:,x].unique()) \n"
   ]
  },
  {
   "cell_type": "code",
   "execution_count": 24,
   "metadata": {},
   "outputs": [
    {
     "name": "stdout",
     "output_type": "stream",
     "text": [
      "[nan 'Sometimes, if it comes up'\n",
      " 'No, because it would impact me negatively' 'Not applicable to me'\n",
      " 'Yes, always' \"No, because it doesn't matter\"]\n",
      "[nan '1' '0' 'N/A']\n"
     ]
    }
   ],
   "source": [
    "x = mh.columns.get_loc('If you have been diagnosed or treated for a mental health disorder, do you ever reveal this to coworkers or employees?')\n",
    "\n",
    "print(mh.iloc[:,x].unique())\n",
    "mh.iloc[:,x] = mh.iloc[:,x].replace('Sometimes, if it comes up','1')\n",
    "mh.iloc[:,x] = mh.iloc[:,x].replace(\"No, because it doesn't matter\",'0')\n",
    "mh.iloc[:,x] = mh.iloc[:,x].replace('No, because it would impact me negatively','0')\n",
    "mh.iloc[:,x] = mh.iloc[:,x].replace('Not applicable to me','N/A')\n",
    "mh.iloc[:,x] = mh.iloc[:,x].replace('Yes, always','1')\n",
    "print(mh.iloc[:,x].unique())\n",
    "\n",
    "\n"
   ]
  },
  {
   "cell_type": "code",
   "execution_count": 25,
   "metadata": {},
   "outputs": [
    {
     "name": "stdout",
     "output_type": "stream",
     "text": [
      "[nan \"I'm not sure\" 'No' 'Yes' 'Not applicable to me']\n",
      "[nan 'DK' 0 1 'N/A']\n"
     ]
    }
   ],
   "source": [
    "x = mh.columns.get_loc('If you have revealed a mental health issue to a coworker or employee, do you believe this has impacted you negatively?')\n",
    "\n",
    "print(mh.iloc[:,x].unique())\n",
    "mh.iloc[:,x] = mh.iloc[:,x].replace('Not applicable to me','N/A')\n",
    "mh.iloc[:,x] = mh.iloc[:,x].replace('No', 0)\n",
    "mh.iloc[:,x] = mh.iloc[:,x].replace('Yes', 1)\n",
    "mh.iloc[:,x] = mh.iloc[:,x].replace(\"I'm not sure\", 'DK')\n",
    "print(mh.iloc[:,x].unique())\n",
    "\n",
    "\n",
    "\n"
   ]
  },
  {
   "cell_type": "code",
   "execution_count": 26,
   "metadata": {},
   "outputs": [
    {
     "name": "stdout",
     "output_type": "stream",
     "text": [
      "[nan 'Yes' 'Not applicable to me' 'No' 'Unsure']\n",
      "[nan 1 'N/A' 0 'DK']\n"
     ]
    }
   ],
   "source": [
    "x = mh.columns.get_loc('Do you believe your productivity is ever affected by a mental health issue?')\n",
    "\n",
    "print(mh.iloc[:,x].unique())\n",
    "mh.iloc[:,x] = mh.iloc[:,x].replace('Not applicable to me','N/A')\n",
    "mh.iloc[:,x] = mh.iloc[:,x].replace('No', 0)\n",
    "mh.iloc[:,x] = mh.iloc[:,x].replace('Yes', 1)\n",
    "mh.iloc[:,x] = mh.iloc[:,x].replace(\"Unsure\", 'DK')\n",
    "print(mh.iloc[:,x].unique())\n",
    "\n",
    "\n"
   ]
  },
  {
   "cell_type": "code",
   "execution_count": 27,
   "metadata": {},
   "outputs": [
    {
     "name": "stdout",
     "output_type": "stream",
     "text": [
      "[nan '1-25%' '76-100%' '26-50%' '51-75%']\n"
     ]
    }
   ],
   "source": [
    "x = mh.columns.get_loc('If yes, what percentage of your work time (time performing primary or secondary job functions) is affected by a mental health issue?')\n",
    "\n",
    "print(mh.iloc[:,x].unique())\n",
    "# mh.iloc[:,x] = mh.iloc[:,x].replace('1-25%',1)\n",
    "# mh.iloc[:,x] = mh.iloc[:,x].replace('26-50%',2)\n",
    "# mh.iloc[:,x] = mh.iloc[:,x].replace('51-75%', 3)\n",
    "# mh.iloc[:,x] = mh.iloc[:,x].replace('76-100%', 4)\n",
    "# print(mh.iloc[:,x].unique())"
   ]
  },
  {
   "cell_type": "code",
   "execution_count": 28,
   "metadata": {},
   "outputs": [
    {
     "data": {
      "text/plain": [
       "array([1, 0], dtype=int64)"
      ]
     },
     "execution_count": 28,
     "metadata": {},
     "output_type": "execute_result"
    }
   ],
   "source": [
    "mh['Do you have previous employers?'].unique()"
   ]
  },
  {
   "cell_type": "code",
   "execution_count": 29,
   "metadata": {},
   "outputs": [
    {
     "name": "stdout",
     "output_type": "stream",
     "text": [
      "['No, none did' 'Yes, they all did' 'Some did' \"I don't know\" nan]\n",
      "['0' '1' 'DK' nan]\n"
     ]
    }
   ],
   "source": [
    "x = mh.columns.get_loc('Have your previous employers provided mental health benefits?')\n",
    "\n",
    "print(mh.iloc[:,x].unique())\n",
    "mh.iloc[:,x] = mh.iloc[:,x].replace('No, none did','0')\n",
    "mh.iloc[:,x] = mh.iloc[:,x].replace('Yes, they all did','1')\n",
    "mh.iloc[:,x] = mh.iloc[:,x].replace('Some did','1')\n",
    "mh.iloc[:,x] = mh.iloc[:,x].replace(\"I don't know\", 'DK')\n",
    "print(mh.iloc[:,x].unique())"
   ]
  },
  {
   "cell_type": "code",
   "execution_count": 30,
   "metadata": {},
   "outputs": [
    {
     "name": "stdout",
     "output_type": "stream",
     "text": [
      "['N/A (not currently aware)' 'I was aware of some'\n",
      " 'Yes, I was aware of all of them' 'No, I only became aware later' nan]\n",
      "['DK' '1' '0' nan]\n"
     ]
    }
   ],
   "source": [
    "x = mh.columns.get_loc('Were you aware of the options for mental health care provided by your previous employers?')\n",
    "print(mh.iloc[:,x].unique())\n",
    "mh.iloc[:,x] = mh.iloc[:,x].replace('N/A (not currently aware)','DK')\n",
    "mh.iloc[:,x] = mh.iloc[:,x].replace('I was aware of some','1')\n",
    "mh.iloc[:,x] = mh.iloc[:,x].replace('Yes, I was aware of all of them','1')\n",
    "mh.iloc[:,x] = mh.iloc[:,x].replace('No, I only became aware later','0')\n",
    "# mh.iloc[:,x] = mh.iloc[:,x].replace('Unsure','DK')\n",
    "print(mh.iloc[:,x].unique())"
   ]
  },
  {
   "cell_type": "code",
   "execution_count": 31,
   "metadata": {},
   "outputs": [
    {
     "name": "stdout",
     "output_type": "stream",
     "text": [
      "[\"I don't know\" 'None did' 'Some did' nan 'Yes, they all did']\n",
      "['DK' '0' '1' nan]\n"
     ]
    }
   ],
   "source": [
    "x = mh.columns.get_loc('Did your previous employers ever formally discuss mental health (as part of a wellness campaign or other official communication)?')\n",
    "\n",
    "print(mh.iloc[:,x].unique())\n",
    "mh.iloc[:,x] = mh.iloc[:,x].replace('Yes, they all did','1')\n",
    "mh.iloc[:,x] = mh.iloc[:,x].replace('Some did','1')\n",
    "mh.iloc[:,x] = mh.iloc[:,x].replace('None did','0')\n",
    "mh.iloc[:,x] = mh.iloc[:,x].replace(\"I don't know\", 'DK')\n",
    "print(mh.iloc[:,x].unique())"
   ]
  },
  {
   "cell_type": "code",
   "execution_count": 32,
   "metadata": {},
   "outputs": [
    {
     "name": "stdout",
     "output_type": "stream",
     "text": [
      "['None did' 'Some did' nan 'Yes, they all did']\n",
      "['0' '1' nan]\n"
     ]
    }
   ],
   "source": [
    "x = mh.columns.get_loc('Did your previous employers provide resources to learn more about mental health issues and how to seek help?')\n",
    "\n",
    "print(mh.iloc[:,x].unique())\n",
    "mh.iloc[:,x] = mh.iloc[:,x].replace('Yes, they all did','1')\n",
    "mh.iloc[:,x] = mh.iloc[:,x].replace('Some did','1')\n",
    "mh.iloc[:,x] = mh.iloc[:,x].replace('None did','0')\n",
    "print(mh.iloc[:,x].unique())"
   ]
  },
  {
   "cell_type": "code",
   "execution_count": 33,
   "metadata": {},
   "outputs": [
    {
     "name": "stdout",
     "output_type": "stream",
     "text": [
      "[\"I don't know\" 'Yes, always' 'Sometimes' 'No' nan]\n",
      "['DK' '1' '0' nan]\n"
     ]
    }
   ],
   "source": [
    "x = mh.columns.get_loc('Was your anonymity protected if you chose to take advantage of mental health or substance abuse treatment resources with previous employers?')\n",
    "\n",
    "print(mh.iloc[:,x].unique())\n",
    "mh.iloc[:,x] = mh.iloc[:,x].replace('Yes, always','1')\n",
    "mh.iloc[:,x] = mh.iloc[:,x].replace('Sometimes','1')\n",
    "mh.iloc[:,x] = mh.iloc[:,x].replace('No','0')\n",
    "mh.iloc[:,x] = mh.iloc[:,x].replace(\"I don't know\", 'DK')\n",
    "print(mh.iloc[:,x].unique())"
   ]
  },
  {
   "cell_type": "code",
   "execution_count": 34,
   "metadata": {},
   "outputs": [
    {
     "name": "stdout",
     "output_type": "stream",
     "text": [
      "['Some of them' 'None of them' \"I don't know\" 'Yes, all of them' nan]\n",
      "['1' '0' 'DK' nan]\n"
     ]
    }
   ],
   "source": [
    "x = mh.columns.get_loc('Do you think that discussing a mental health disorder with previous employers would have negative consequences?')\n",
    "\n",
    "print(mh.iloc[:,x].unique())\n",
    "mh.iloc[:,x] = mh.iloc[:,x].replace('Yes, all of them','1')\n",
    "mh.iloc[:,x] = mh.iloc[:,x].replace('Some of them','1')\n",
    "mh.iloc[:,x] = mh.iloc[:,x].replace('None of them','0')\n",
    "mh.iloc[:,x] = mh.iloc[:,x].replace(\"I don't know\", 'DK')\n",
    "print(mh.iloc[:,x].unique())"
   ]
  },
  {
   "cell_type": "code",
   "execution_count": 35,
   "metadata": {},
   "outputs": [
    {
     "name": "stdout",
     "output_type": "stream",
     "text": [
      "['None of them' 'Some of them' 'Yes, all of them' nan]\n",
      "['0' '1' nan]\n"
     ]
    }
   ],
   "source": [
    "x = mh.columns.get_loc('Do you think that discussing a physical health issue with previous employers would have negative consequences?')\n",
    "\n",
    "print(mh.iloc[:,x].unique())\n",
    "mh.iloc[:,x] = mh.iloc[:,x].replace('Yes, all of them','1')\n",
    "mh.iloc[:,x] = mh.iloc[:,x].replace('Some of them','1')\n",
    "mh.iloc[:,x] = mh.iloc[:,x].replace('None of them','0')\n",
    "print(mh.iloc[:,x].unique())"
   ]
  },
  {
   "cell_type": "code",
   "execution_count": 36,
   "metadata": {},
   "outputs": [
    {
     "name": "stdout",
     "output_type": "stream",
     "text": [
      "['Some of my previous employers' 'No, at none of my previous employers'\n",
      " 'Yes, at all of my previous employers' nan]\n",
      "['1' '0' nan]\n"
     ]
    }
   ],
   "source": [
    "x = mh.columns.get_loc('Would you have been willing to discuss a mental health issue with your previous co-workers?')\n",
    "\n",
    "print(mh.iloc[:,x].unique())\n",
    "mh.iloc[:,x] = mh.iloc[:,x].replace('Some of my previous employers','1')\n",
    "mh.iloc[:,x] = mh.iloc[:,x].replace('Yes, at all of my previous employers','1')\n",
    "mh.iloc[:,x] = mh.iloc[:,x].replace('No, at none of my previous employers','0')\n",
    "print(mh.iloc[:,x].unique())"
   ]
  },
  {
   "cell_type": "code",
   "execution_count": 37,
   "metadata": {},
   "outputs": [
    {
     "name": "stdout",
     "output_type": "stream",
     "text": [
      "['Some of my previous employers' \"I don't know\"\n",
      " 'No, at none of my previous employers'\n",
      " 'Yes, at all of my previous employers' nan]\n",
      "['1' 'DK' '0' nan]\n"
     ]
    }
   ],
   "source": [
    "x = mh.columns.get_loc('Would you have been willing to discuss a mental health issue with your direct supervisor(s)?')\n",
    "\n",
    "print(mh.iloc[:,x].unique())\n",
    "mh.iloc[:,x] = mh.iloc[:,x].replace('Some of my previous employers','1')\n",
    "mh.iloc[:,x] = mh.iloc[:,x].replace('Yes, at all of my previous employers','1')\n",
    "mh.iloc[:,x] = mh.iloc[:,x].replace('No, at none of my previous employers','0')\n",
    "mh.iloc[:,x] = mh.iloc[:,x].replace(\"I don't know\", 'DK')\n",
    "print(mh.iloc[:,x].unique())"
   ]
  },
  {
   "cell_type": "code",
   "execution_count": 38,
   "metadata": {},
   "outputs": [
    {
     "name": "stdout",
     "output_type": "stream",
     "text": [
      "[\"I don't know\" 'Some did' 'None did' 'Yes, they all did' nan]\n",
      "['DK' '1' '0' nan]\n"
     ]
    }
   ],
   "source": [
    "x = mh.columns.get_loc('Did you feel that your previous employers took mental health as seriously as physical health?')\n",
    "\n",
    "print(mh.iloc[:,x].unique())\n",
    "mh.iloc[:,x] = mh.iloc[:,x].replace('Some did','1')\n",
    "mh.iloc[:,x] = mh.iloc[:,x].replace('Yes, they all did','1')\n",
    "mh.iloc[:,x] = mh.iloc[:,x].replace('None did','0')\n",
    "mh.iloc[:,x] = mh.iloc[:,x].replace(\"I don't know\", 'DK')\n",
    "print(mh.iloc[:,x].unique())"
   ]
  },
  {
   "cell_type": "code",
   "execution_count": 39,
   "metadata": {},
   "outputs": [
    {
     "name": "stdout",
     "output_type": "stream",
     "text": [
      "['None of them' 'Some of them' nan 'Yes, all of them']\n",
      "['0' '1' nan]\n"
     ]
    }
   ],
   "source": [
    "x = mh.columns.get_loc('Did you hear of or observe negative consequences for co-workers with mental health issues in your previous workplaces?')\n",
    "\n",
    "print(mh.iloc[:,x].unique())\n",
    "mh.iloc[:,x] = mh.iloc[:,x].replace('Some of them','1')\n",
    "mh.iloc[:,x] = mh.iloc[:,x].replace('Yes, all of them','1')\n",
    "mh.iloc[:,x] = mh.iloc[:,x].replace('None of them','0')\n",
    "print(mh.iloc[:,x].unique())"
   ]
  },
  {
   "cell_type": "code",
   "execution_count": 40,
   "metadata": {},
   "outputs": [
    {
     "name": "stdout",
     "output_type": "stream",
     "text": [
      "36\n",
      "['Maybe' 'Yes' 'No']\n",
      "['Maybe' 'Yes' 'No']\n"
     ]
    }
   ],
   "source": [
    "x = mh.columns.get_loc('Would you be willing to bring up a physical health issue with a potential employer in an interview?')\n",
    "print(x)\n",
    "print(mh.iloc[:,x].unique())\n",
    "print(mh.iloc[:,x].unique())"
   ]
  },
  {
   "cell_type": "code",
   "execution_count": 41,
   "metadata": {},
   "outputs": [
    {
     "name": "stdout",
     "output_type": "stream",
     "text": [
      "37\n"
     ]
    }
   ],
   "source": [
    "x = mh.columns.get_loc('Why or why not?')\n",
    "print(x)\n",
    "\n",
    "mh = pd.concat([mh.iloc[:, :37], mh2['Physical Category'], mh.iloc[:, 37:]], axis=1)\n",
    "# mh.head()"
   ]
  },
  {
   "cell_type": "code",
   "execution_count": 42,
   "metadata": {},
   "outputs": [
    {
     "name": "stdout",
     "output_type": "stream",
     "text": [
      "39\n",
      "['Maybe' 'No' 'Yes']\n",
      "['Maybe' 'No' 'Yes']\n"
     ]
    }
   ],
   "source": [
    "x = mh.columns.get_loc('Would you bring up a mental health issue with a potential employer in an interview?')\n",
    "print(x)\n",
    "\n",
    "print(mh.iloc[:,x].unique())\n",
    "\n",
    "print(mh.iloc[:,x].unique())"
   ]
  },
  {
   "cell_type": "code",
   "execution_count": 43,
   "metadata": {},
   "outputs": [
    {
     "name": "stdout",
     "output_type": "stream",
     "text": [
      "40\n"
     ]
    }
   ],
   "source": [
    "x = mh.columns.get_loc('Why or why not?.1')\n",
    "print(x)\n",
    "mh = pd.concat([mh.iloc[:, :39], mh2['Mental Category'], mh.iloc[:, 39:]], axis=1)"
   ]
  },
  {
   "cell_type": "code",
   "execution_count": 44,
   "metadata": {},
   "outputs": [
    {
     "name": "stdout",
     "output_type": "stream",
     "text": [
      "42\n",
      "['Maybe' \"No, I don't think it would\" 'Yes, I think it would'\n",
      " 'No, it has not' 'Yes, it has']\n",
      "['Maybe' '0' '1']\n"
     ]
    }
   ],
   "source": [
    "x = mh.columns.get_loc('Do you feel that being identified as a person with a mental health issue would hurt your career?')\n",
    "print(x)\n",
    "\n",
    "print(mh.iloc[:,x].unique())\n",
    "mh.iloc[:,x] = mh.iloc[:,x].replace('Yes, I think it would','1')\n",
    "mh.iloc[:,x] = mh.iloc[:,x].replace(\"No, I don't think it would\",'0')\n",
    "mh.iloc[:,x] = mh.iloc[:,x].replace('Yes, it has','1')\n",
    "mh.iloc[:,x] = mh.iloc[:,x].replace('No, it has not','0')\n",
    "print(mh.iloc[:,x].unique())"
   ]
  },
  {
   "cell_type": "code",
   "execution_count": 45,
   "metadata": {},
   "outputs": [
    {
     "name": "stdout",
     "output_type": "stream",
     "text": [
      "[\"No, I don't think they would\" 'Maybe' 'Yes, they do'\n",
      " 'Yes, I think they would' 'No, they do not']\n",
      "['0' 'Maybe' '1']\n"
     ]
    }
   ],
   "source": [
    "x = mh.columns.get_loc('Do you think that team members/co-workers would view you more negatively if they knew you suffered from a mental health issue?')\n",
    "\n",
    "print(mh.iloc[:,x].unique())\n",
    "mh.iloc[:,x] = mh.iloc[:,x].replace('Yes, I think they would','1')\n",
    "mh.iloc[:,x] = mh.iloc[:,x].replace(\"No, I don't think they would\",'0')\n",
    "mh.iloc[:,x] = mh.iloc[:,x].replace('Yes, they do','1')\n",
    "mh.iloc[:,x] = mh.iloc[:,x].replace('No, they do not','0')\n",
    "print(mh.iloc[:,x].unique())"
   ]
  },
  {
   "cell_type": "code",
   "execution_count": 46,
   "metadata": {},
   "outputs": [
    {
     "name": "stdout",
     "output_type": "stream",
     "text": [
      "44\n",
      "['Somewhat open' 'Neutral'\n",
      " 'Not applicable to me (I do not have a mental illness)' 'Very open'\n",
      " 'Not open at all' 'Somewhat not open']\n",
      "['4' '3' 'N/A' '5' '1' '2']\n"
     ]
    }
   ],
   "source": [
    "x = mh.columns.get_loc('How willing would you be to share with friends and family that you have a mental illness?')\n",
    "print(x)\n",
    "\n",
    "print(mh.iloc[:,x].unique())\n",
    "mh.iloc[:,x] = mh.iloc[:,x].replace('Not open at all','1')\n",
    "mh.iloc[:,x] = mh.iloc[:,x].replace('Somewhat not open','2')\n",
    "mh.iloc[:,x] = mh.iloc[:,x].replace('Neutral','3')\n",
    "mh.iloc[:,x] = mh.iloc[:,x].replace('Somewhat open','4')\n",
    "mh.iloc[:,x] = mh.iloc[:,x].replace('Very open','5')\n",
    "mh.iloc[:,x] = mh.iloc[:,x].replace('Not applicable to me (I do not have a mental illness)','N/A')\n",
    "print(mh.iloc[:,x].unique())"
   ]
  },
  {
   "cell_type": "code",
   "execution_count": 47,
   "metadata": {},
   "outputs": [
    {
     "name": "stdout",
     "output_type": "stream",
     "text": [
      "['No' 'Maybe/Not sure' 'Yes, I experienced' 'Yes, I observed' nan]\n",
      "[0 'Maybe' 1 nan]\n"
     ]
    }
   ],
   "source": [
    "x = mh.columns.get_loc('Have you observed or experienced an unsupportive or badly handled response to a mental health issue in your current or previous workplace?')\n",
    "\n",
    "print(mh.iloc[:,x].unique())\n",
    "mh.iloc[:,x] = mh.iloc[:,x].replace('No', 0)\n",
    "mh.iloc[:,x] = mh.iloc[:,x].replace('Yes, I experienced', 1)\n",
    "mh.iloc[:,x] = mh.iloc[:,x].replace('Yes, I observed', 1)\n",
    "mh.iloc[:,x] = mh.iloc[:,x].replace('Maybe/Not sure', 'Maybe')\n",
    "print(mh.iloc[:,x].unique())"
   ]
  },
  {
   "cell_type": "code",
   "execution_count": 48,
   "metadata": {},
   "outputs": [
    {
     "name": "stdout",
     "output_type": "stream",
     "text": [
      "46\n",
      "[nan 'Yes' 'No' 'Maybe']\n",
      "[nan '1' '0' 'Maybe']\n"
     ]
    }
   ],
   "source": [
    "x = mh.columns.get_loc('Have your observations of how another individual who discussed a mental health disorder made you less likely to reveal a mental health issue yourself in your current workplace?')\n",
    "print(x)\n",
    "\n",
    "print(mh.iloc[:,x].unique())\n",
    "mh.iloc[:,x] = mh.iloc[:,x].replace('Yes','1')\n",
    "mh.iloc[:,x] = mh.iloc[:,x].replace('No','0')\n",
    "print(mh.iloc[:,x].unique())"
   ]
  },
  {
   "cell_type": "code",
   "execution_count": 49,
   "metadata": {},
   "outputs": [
    {
     "name": "stdout",
     "output_type": "stream",
     "text": [
      "['No' 'Yes' \"I don't know\"]\n",
      "['0' '1' 'DK']\n"
     ]
    }
   ],
   "source": [
    "x = mh.columns.get_loc('Do you have a family history of mental illness?')\n",
    "\n",
    "print(mh.iloc[:,x].unique())\n",
    "mh.iloc[:,x] = mh.iloc[:,x].replace('Yes','1')\n",
    "mh.iloc[:,x] = mh.iloc[:,x].replace('No','0')\n",
    "mh.iloc[:,x] = mh.iloc[:,x].replace(\"I don't know\", 'DK')\n",
    "print(mh.iloc[:,x].unique())"
   ]
  },
  {
   "cell_type": "code",
   "execution_count": 50,
   "metadata": {},
   "outputs": [
    {
     "name": "stdout",
     "output_type": "stream",
     "text": [
      "['Yes' 'Maybe' 'No']\n",
      "['1' 'Maybe' '0']\n"
     ]
    }
   ],
   "source": [
    "x = mh.columns.get_loc('Have you had a mental health disorder in the past?')\n",
    "\n",
    "print(mh.iloc[:,x].unique())\n",
    "mh.iloc[:,x] = mh.iloc[:,x].replace('Yes','1')\n",
    "mh.iloc[:,x] = mh.iloc[:,x].replace('No','0')\n",
    "print(mh.iloc[:,x].unique())"
   ]
  },
  {
   "cell_type": "code",
   "execution_count": 51,
   "metadata": {},
   "outputs": [
    {
     "name": "stdout",
     "output_type": "stream",
     "text": [
      "['No' 'Yes' 'Maybe']\n",
      "['0' '1' 'Maybe']\n"
     ]
    }
   ],
   "source": [
    "x = mh.columns.get_loc('Do you currently have a mental health disorder?')\n",
    "\n",
    "print(mh.iloc[:,x].unique())\n",
    "mh.iloc[:,x] = mh.iloc[:,x].replace('Yes','1')\n",
    "mh.iloc[:,x] = mh.iloc[:,x].replace('No','0')\n",
    "print(mh.iloc[:,x].unique())"
   ]
  },
  {
   "cell_type": "code",
   "execution_count": 52,
   "metadata": {},
   "outputs": [
    {
     "name": "stdout",
     "output_type": "stream",
     "text": [
      "0       0.0\n",
      "1       2.0\n",
      "2       0.0\n",
      "3       2.0\n",
      "4       2.0\n",
      "       ... \n",
      "1428    0.0\n",
      "1429    0.0\n",
      "1430    0.0\n",
      "1431    3.0\n",
      "1432    4.0\n",
      "Name: Number of current Mental health condition, Length: 1433, dtype: float64\n"
     ]
    }
   ],
   "source": [
    "mh['If yes, what condition(s) have you been diagnosed with?'].unique()\n",
    "mh['Number of current Mental health condition'] =mh ['If yes, what condition(s) have you been diagnosed with?'].str.count('\\|')\n",
    "mh['Number of current Mental health condition'] = mh['Number of current Mental health condition'] + 1\n",
    "mh['Number of current Mental health condition'] = mh['Number of current Mental health condition'].fillna(0)\n",
    "\n",
    "print(mh['Number of current Mental health condition'])"
   ]
  },
  {
   "cell_type": "code",
   "execution_count": 53,
   "metadata": {},
   "outputs": [
    {
     "name": "stdout",
     "output_type": "stream",
     "text": [
      "0       0.0\n",
      "1       0.0\n",
      "2       0.0\n",
      "3       0.0\n",
      "4       0.0\n",
      "       ... \n",
      "1428    0.0\n",
      "1429    0.0\n",
      "1430    2.0\n",
      "1431    0.0\n",
      "1432    0.0\n",
      "Name: Number of believed Mental health condition, Length: 1433, dtype: float64\n"
     ]
    }
   ],
   "source": [
    "mh['If maybe, what condition(s) do you believe you have?'].unique()\n",
    "\n",
    "mh['Number of believed Mental health condition'] =mh ['If maybe, what condition(s) do you believe you have?'].str.count('\\|')\n",
    "mh['Number of believed Mental health condition'] = mh['Number of believed Mental health condition'] + 1\n",
    "mh['Number of believed Mental health condition'] = mh['Number of believed Mental health condition'].fillna(0)\n",
    "print(mh['Number of believed Mental health condition'])"
   ]
  },
  {
   "cell_type": "code",
   "execution_count": 54,
   "metadata": {},
   "outputs": [
    {
     "name": "stdout",
     "output_type": "stream",
     "text": [
      "['Yes' 'No']\n",
      "['1' '0']\n"
     ]
    }
   ],
   "source": [
    "x = mh.columns.get_loc('Have you been diagnosed with a mental health condition by a medical professional?')\n",
    "\n",
    "print(mh.iloc[:,x].unique())\n",
    "mh.iloc[:,x] = mh.iloc[:,x].replace('Yes','1')\n",
    "mh.iloc[:,x] = mh.iloc[:,x].replace('No','0')\n",
    "print(mh.iloc[:,x].unique())"
   ]
  },
  {
   "cell_type": "code",
   "execution_count": 55,
   "metadata": {},
   "outputs": [
    {
     "name": "stdout",
     "output_type": "stream",
     "text": [
      "0       1.0\n",
      "1       2.0\n",
      "2       0.0\n",
      "3       2.0\n",
      "4       1.0\n",
      "       ... \n",
      "1428    0.0\n",
      "1429    1.0\n",
      "1430    2.0\n",
      "1431    1.0\n",
      "1432    0.0\n",
      "Name: Number of diagnosed Mental health condition, Length: 1433, dtype: float64\n"
     ]
    }
   ],
   "source": [
    "mh['If so, what condition(s) were you diagnosed with?'].unique()\n",
    "mh['Number of diagnosed Mental health condition'] =mh ['If so, what condition(s) were you diagnosed with?'].str.count('\\|')\n",
    "mh['Number of diagnosed Mental health condition'] = mh['Number of diagnosed Mental health condition'] + 1\n",
    "mh['Number of diagnosed Mental health condition'] = mh['Number of diagnosed Mental health condition'].fillna(0)\n",
    "\n",
    "print(mh['Number of diagnosed Mental health condition'])"
   ]
  },
  {
   "cell_type": "code",
   "execution_count": 56,
   "metadata": {},
   "outputs": [
    {
     "data": {
      "text/plain": [
       "array([0, 1], dtype=int64)"
      ]
     },
     "execution_count": 56,
     "metadata": {},
     "output_type": "execute_result"
    }
   ],
   "source": [
    "mh['Have you ever sought treatment for a mental health issue from a mental health professional?'].unique()"
   ]
  },
  {
   "cell_type": "code",
   "execution_count": 57,
   "metadata": {},
   "outputs": [
    {
     "name": "stdout",
     "output_type": "stream",
     "text": [
      "['Not applicable to me' 'Rarely' 'Sometimes' 'Never' 'Often']\n",
      "['N/A' 2 3 1 4]\n"
     ]
    }
   ],
   "source": [
    "x = mh.columns.get_loc('If you have a mental health issue, do you feel that it interferes with your work when being treated effectively?')\n",
    "\n",
    "print(mh.iloc[:,x].unique())\n",
    "mh.iloc[:,x] = mh.iloc[:,x].replace('Not applicable to me','N/A')\n",
    "mh.iloc[:,x] = mh.iloc[:,x].replace('Rarely', 2)\n",
    "mh.iloc[:,x] = mh.iloc[:,x].replace('Sometimes',3)\n",
    "mh.iloc[:,x] = mh.iloc[:,x].replace('Never',1)\n",
    "mh.iloc[:,x] = mh.iloc[:,x].replace('Often',4)\n",
    "print(mh.iloc[:,x].unique())"
   ]
  },
  {
   "cell_type": "code",
   "execution_count": 58,
   "metadata": {},
   "outputs": [
    {
     "name": "stdout",
     "output_type": "stream",
     "text": [
      "['Not applicable to me' 'Sometimes' 'Often' 'Rarely' 'Never']\n",
      "['N/A' 3 4 2 1]\n"
     ]
    }
   ],
   "source": [
    "x = mh.columns.get_loc('If you have a mental health issue, do you feel that it interferes with your work when NOT being treated effectively?')\n",
    "\n",
    "print(mh.iloc[:,x].unique())\n",
    "mh.iloc[:,x] = mh.iloc[:,x].replace('Not applicable to me','N/A')\n",
    "mh.iloc[:,x] = mh.iloc[:,x].replace('Rarely', 2)\n",
    "mh.iloc[:,x] = mh.iloc[:,x].replace('Sometimes',3)\n",
    "mh.iloc[:,x] = mh.iloc[:,x].replace('Never',1)\n",
    "mh.iloc[:,x] = mh.iloc[:,x].replace('Often',4)\n",
    "print(mh.iloc[:,x].unique())"
   ]
  },
  {
   "cell_type": "markdown",
   "metadata": {},
   "source": [
    "# Below Look More Closely"
   ]
  },
  {
   "cell_type": "code",
   "execution_count": 59,
   "metadata": {},
   "outputs": [
    {
     "name": "stdout",
     "output_type": "stream",
     "text": [
      "[ 39  29  38  43  42  30  37  44  28  34  35  52  32  25  31  26  33  27\n",
      "  36  40  46  41  45  19  21  24  17  23  22  51  48  55  50  49  20  54\n",
      "  47  56  57  63  99  61 323  62  53  58   3  66  59  15  65  74  70]\n",
      "17\n",
      "323\n",
      "3\n",
      "15\n",
      "[39. 29. 38. 43. 42. 30. 37. 44. 28. 34. 35. 52. 32. 25. 31. 26. 33. 27.\n",
      " 36. 40. 46. 41. 45. 19. 21. 24. nan 23. 22. 51. 48. 55. 50. 49. 20. 54.\n",
      " 47. 56. 57. 63. 99. 61. 62. 53. 58. 66. 59. 65. 74. 70.]\n"
     ]
    }
   ],
   "source": [
    "x = mh.columns.get_loc('What is your age?')\n",
    "\n",
    "print(mh.iloc[:,x].unique())\n",
    "for ii in mh.iloc[:,x]:\n",
    "    if ii < 18:\n",
    "        print(ii)\n",
    "    elif ii > 100:\n",
    "        print(ii)\n",
    "\n",
    "mh.iloc[:,x] = mh.iloc[:,x].replace(17, np.nan)\n",
    "mh.iloc[:,x] = mh.iloc[:,x].replace(323, np.nan)\n",
    "mh.iloc[:,x] = mh.iloc[:,x].replace(3, np.nan)\n",
    "mh.iloc[:,x] = mh.iloc[:,x].replace(15, np.nan)\n",
    "\n",
    "print(mh.iloc[:,x].unique())"
   ]
  },
  {
   "cell_type": "code",
   "execution_count": 60,
   "metadata": {},
   "outputs": [
    {
     "name": "stdout",
     "output_type": "stream",
     "text": [
      "58\n",
      "['MALE' 'MALE ' 'FEMALE' 'M' 'I IDENTIFY AS FEMALE.' 'FEMALE ' 'BIGENDER'\n",
      " 'NON-BINARY' 'FEMALE ASSIGNED AT BIRTH ' 'F' 'WOMAN' 'MAN' 'FM'\n",
      " 'CIS FEMALE ' 'TRANSITIONED, M2F' 'GENDERFLUID (BORN FEMALE)'\n",
      " 'OTHER/TRANSFEMININE' 'FEMALE OR MULTI-GENDER FEMME' 'FEMALE/WOMAN'\n",
      " 'CIS MALE' 'MALE.' 'ANDROGYNOUS' 'MALE 9:1 FEMALE, ROUGHLY' nan\n",
      " 'MALE (CIS)' 'OTHER' 'NB MASCULINE' 'CISGENDER FEMALE' 'SEX IS MALE'\n",
      " 'NONE OF YOUR BUSINESS' 'GENDERQUEER' 'HUMAN' 'GENDERFLUID' 'ENBY' 'MALR'\n",
      " 'GENDERQUEER WOMAN' 'MTF' 'QUEER' 'AGENDER' 'DUDE' 'FLUID'\n",
      " \"I'M A MAN WHY DIDN'T YOU MAKE THIS A DROP DOWN QUESTION. YOU SHOULD OF ASKED SEX? AND I WOULD OF ANSWERED YES PLEASE. SERIOUSLY HOW MUCH TEXT CAN THIS TAKE? \"\n",
      " 'MAIL' 'M|' 'MALE/GENDERQUEER' 'FEM' 'NONBINARY'\n",
      " 'FEMALE (PROPS FOR MAKING THIS A FREEFORM FIELD, THOUGH)' ' FEMALE'\n",
      " 'UNICORN' 'MALE (TRANS, FTM)' 'CIS-WOMAN' 'CISDUDE'\n",
      " 'GENDERFLUX DEMI-GIRL' 'FEMALE-BODIED; NO FEELINGS ABOUT GENDER'\n",
      " 'CIS MAN' 'AFAB' 'TRANSGENDER WOMAN']\n",
      "['M' 'F' 'NB' 'T' nan]\n"
     ]
    }
   ],
   "source": [
    "print(mh.columns.get_loc('What is your gender?'))\n",
    "mh['Gender'] = mh.iloc[:,58]\n",
    "mh['Gender'] = mh['Gender'].str.upper()\n",
    "print(mh['Gender'].unique())\n",
    "mh['Gender'] = mh['Gender'].replace('MALE','M')\n",
    "mh['Gender'] = mh['Gender'].replace('MALE ','M')\n",
    "mh['Gender'] = mh['Gender'].replace('FEMALE','F')\n",
    "mh['Gender'] = mh['Gender'].replace('I IDENTIFY AS FEMALE.','M')\n",
    "mh['Gender'] = mh['Gender'].replace('FEMALE ','F')\n",
    "mh['Gender'] = mh['Gender'].replace('BIGENDER','NB')\n",
    "mh['Gender'] = mh['Gender'].replace('NON-BINARY','NB')\n",
    "mh['Gender'] = mh['Gender'].replace('FEMALE ASSIGNED AT BIRTH ','F')\n",
    "mh['Gender'] = mh['Gender'].replace('WOMAN','F')\n",
    "mh['Gender'] = mh['Gender'].replace('MAN','M')\n",
    "mh['Gender'] = mh['Gender'].replace('FM','F')\n",
    "mh['Gender'] = mh['Gender'].replace('CIS FEMALE ','F')\n",
    "mh['Gender'] = mh['Gender'].replace('TRANSITIONED, M2F','T')\n",
    "mh['Gender'] = mh['Gender'].replace('GENDERFLUID (BORN FEMALE)','NB')\n",
    "mh['Gender'] = mh['Gender'].replace('OTHER/TRANSFEMININE','NB')\n",
    "mh['Gender'] = mh['Gender'].replace('FEMALE OR MULTI-GENDER FEMME','NB')\n",
    "mh['Gender'] = mh['Gender'].replace('FEMALE/WOMAN','F')\n",
    "mh['Gender'] = mh['Gender'].replace('CIS MALE','M')\n",
    "mh['Gender'] = mh['Gender'].replace('MALE.','M')\n",
    "mh['Gender'] = mh['Gender'].replace('ANDROGYNOUS','NB')\n",
    "mh['Gender'] = mh['Gender'].replace('MALE 9:1 FEMALE, ROUGHLY','NB')\n",
    "mh['Gender'] = mh['Gender'].replace('MALE (CIS)','M')\n",
    "mh['Gender'] = mh['Gender'].replace('OTHER','NB')  \n",
    "mh['Gender'] = mh['Gender'].replace('NB MASCULINE','NB')\n",
    "mh['Gender'] = mh['Gender'].replace('CISGENDER FEMALE','F')\n",
    "mh['Gender'] = mh['Gender'].replace('SEX IS MALE','F')\n",
    "mh['Gender'] = mh['Gender'].replace('NONE OF YOUR BUSINESS', )\n",
    "mh['Gender'] = mh['Gender'].replace('GENDERQUEER','NB')\n",
    "mh['Gender'] = mh['Gender'].replace('HUMAN', )\n",
    "mh['Gender'] = mh['Gender'].replace('GENDERFLUID','NB')\n",
    "mh['Gender'] = mh['Gender'].replace('ENBY','NB')\n",
    "mh['Gender'] = mh['Gender'].replace('MALR','M')\n",
    "mh['Gender'] = mh['Gender'].replace('GENDERQUEER WOMAN','NB')\n",
    "mh['Gender'] = mh['Gender'].replace('MTF','T')\n",
    "mh['Gender'] = mh['Gender'].replace('QUEER','NB')\n",
    "mh['Gender'] = mh['Gender'].replace('AGENDER','NB')\n",
    "mh['Gender'] = mh['Gender'].replace('DUDE','M')\n",
    "mh['Gender'] = mh['Gender'].replace('FLUID','NB')\n",
    "mh['Gender'] = mh['Gender'].replace(\"I'M A MAN WHY DIDN'T YOU MAKE THIS A DROP DOWN QUESTION. YOU SHOULD OF ASKED SEX? AND I WOULD OF ANSWERED YES PLEASE. SERIOUSLY HOW MUCH TEXT CAN THIS TAKE? \",'M')\n",
    "mh['Gender'] = mh['Gender'].replace('MAIL','M')\n",
    "mh['Gender'] = mh['Gender'].replace('M|','M')\n",
    "mh['Gender'] = mh['Gender'].replace('MALE/GENDERQUEER','NB')\n",
    "mh['Gender'] = mh['Gender'].replace('FEM','F')\n",
    "mh['Gender'] = mh['Gender'].replace('NONBINARY','NB')\n",
    "mh['Gender'] = mh['Gender'].replace('FEMALE (PROPS FOR MAKING THIS A FREEFORM FIELD, THOUGH)','F')\n",
    "mh['Gender'] = mh['Gender'].replace(' FEMALE','F')\n",
    "mh['Gender'] = mh['Gender'].replace('UNICORN', )\n",
    "mh['Gender'] = mh['Gender'].replace('MALE (TRANS, FTM)','T')\n",
    "mh['Gender'] = mh['Gender'].replace('CIS-WOMAN','F')\n",
    "mh['Gender'] = mh['Gender'].replace('CISDUDE','M')\n",
    "mh['Gender'] = mh['Gender'].replace('GENDERFLUX DEMI-GIRL','NB')\n",
    "mh['Gender'] = mh['Gender'].replace('FEMALE-BODIED; NO FEELINGS ABOUT GENDER','F')\n",
    "mh['Gender'] = mh['Gender'].replace('CIS MAN','M')\n",
    "mh['Gender'] = mh['Gender'].replace('AFAB','F')\n",
    "mh['Gender'] = mh['Gender'].replace('TRANSGENDER WOMAN','T')\n",
    "print(mh['Gender'].unique())\n",
    "\n",
    "\n",
    "\n"
   ]
  },
  {
   "cell_type": "code",
   "execution_count": 61,
   "metadata": {},
   "outputs": [
    {
     "data": {
      "text/plain": [
       "array(['United Kingdom', 'United States of America', 'Canada', 'Germany',\n",
       "       'Netherlands', 'Czech Republic', 'Lithuania', 'Australia',\n",
       "       'France', 'Venezuela', 'Poland', 'Belgium', 'Brazil', 'Denmark',\n",
       "       'Sweden', 'Russia', 'Spain', 'India', 'Mexico', 'Switzerland',\n",
       "       'Norway', 'Argentina', 'Ireland', 'Italy', 'Finland', 'Colombia',\n",
       "       'Costa Rica', 'Vietnam', 'Bulgaria', 'New Zealand', 'South Africa',\n",
       "       'Slovakia', 'Austria', 'Bangladesh', 'Algeria', 'Pakistan',\n",
       "       'Afghanistan', 'Greece', 'Romania', 'Other', 'Brunei', 'Japan',\n",
       "       'Iran', 'Hungary', 'Israel', 'Ecuador', 'Bosnia and Herzegovina',\n",
       "       'China', 'Chile', 'Guatemala', 'Taiwan', 'Serbia', 'Estonia'],\n",
       "      dtype=object)"
      ]
     },
     "execution_count": 61,
     "metadata": {},
     "output_type": "execute_result"
    }
   ],
   "source": [
    "mh['What country do you live in?'].unique()"
   ]
  },
  {
   "cell_type": "code",
   "execution_count": 62,
   "metadata": {},
   "outputs": [
    {
     "data": {
      "text/plain": [
       "array([nan, 'Illinois', 'Tennessee', 'Virginia', 'California', 'Kentucky',\n",
       "       'Oregon', 'Pennsylvania', 'New Jersey', 'Georgia', 'Washington',\n",
       "       'New York', 'Indiana', 'Minnesota', 'West Virginia', 'Florida',\n",
       "       'Massachusetts', 'North Dakota', 'Texas', 'Maryland', 'Wisconsin',\n",
       "       'Michigan', 'Vermont', 'North Carolina', 'Kansas',\n",
       "       'District of Columbia', 'Nevada', 'Utah', 'Connecticut',\n",
       "       'Colorado', 'Ohio', 'Iowa', 'South Dakota', 'Nebraska', 'Maine',\n",
       "       'Missouri', 'Arizona', 'Oklahoma', 'Idaho', 'Rhode Island',\n",
       "       'Alabama', 'Louisiana', 'South Carolina', 'New Hampshire',\n",
       "       'New Mexico', 'Montana', 'Alaska', 'Delaware'], dtype=object)"
      ]
     },
     "execution_count": 62,
     "metadata": {},
     "output_type": "execute_result"
    }
   ],
   "source": [
    "mh['What US state or territory do you live in?'].unique()"
   ]
  },
  {
   "cell_type": "code",
   "execution_count": 63,
   "metadata": {},
   "outputs": [
    {
     "data": {
      "text/plain": [
       "array(['United Kingdom', 'United States of America', 'Canada', 'Germany',\n",
       "       'Netherlands', 'Czech Republic', 'Lithuania', 'Australia',\n",
       "       'France', 'Venezuela', 'Poland', 'Belgium', 'Brazil', 'Denmark',\n",
       "       'Sweden', 'Russia', 'Spain', 'India', 'United Arab Emirates',\n",
       "       'Mexico', 'Switzerland', 'Norway', 'Argentina', 'Ireland', 'Italy',\n",
       "       'Finland', 'Turkey', 'Colombia', 'Costa Rica', 'Vietnam',\n",
       "       'Bulgaria', 'New Zealand', 'South Africa', 'Slovakia', 'Austria',\n",
       "       'Bangladesh', 'Pakistan', 'Afghanistan', 'Greece', 'Other',\n",
       "       'Romania', 'Brunei', 'Iran', 'Hungary', 'Israel', 'Japan',\n",
       "       'Ecuador', 'Bosnia and Herzegovina', 'China', 'Chile', 'Guatemala',\n",
       "       'Serbia', 'Estonia'], dtype=object)"
      ]
     },
     "execution_count": 63,
     "metadata": {},
     "output_type": "execute_result"
    }
   ],
   "source": [
    "mh['What country do you work in?'].unique()"
   ]
  },
  {
   "cell_type": "code",
   "execution_count": 64,
   "metadata": {},
   "outputs": [
    {
     "data": {
      "text/plain": [
       "array([nan, 'Illinois', 'Tennessee', 'Virginia', 'California', 'Kentucky',\n",
       "       'Oregon', 'Pennsylvania', 'New Jersey', 'Georgia', 'Washington',\n",
       "       'New York', 'Indiana', 'Minnesota', 'Ohio', 'Florida',\n",
       "       'Massachusetts', 'North Dakota', 'Texas', 'District of Columbia',\n",
       "       'Michigan', 'Vermont', 'North Carolina', 'Missouri', 'Kansas',\n",
       "       'Nevada', 'Utah', 'Connecticut', 'Maryland', 'Colorado', 'Iowa',\n",
       "       'South Dakota', 'Hawaii', 'Nebraska', 'Maine', 'Arizona',\n",
       "       'Oklahoma', 'Wisconsin', 'Rhode Island', 'Alabama',\n",
       "       'West Virginia', 'Louisiana', 'South Carolina', 'New Hampshire',\n",
       "       'New Mexico', 'Montana', 'Idaho', 'Alaska', 'Delaware'],\n",
       "      dtype=object)"
      ]
     },
     "execution_count": 64,
     "metadata": {},
     "output_type": "execute_result"
    }
   ],
   "source": [
    "mh['What US state or territory do you work in?'].unique()"
   ]
  },
  {
   "cell_type": "code",
   "execution_count": 65,
   "metadata": {},
   "outputs": [
    {
     "name": "stdout",
     "output_type": "stream",
     "text": [
      "0       1\n",
      "1       2\n",
      "2       1\n",
      "3       1\n",
      "4       7\n",
      "       ..\n",
      "1428    1\n",
      "1429    1\n",
      "1430    1\n",
      "1431    1\n",
      "1432    1\n",
      "Name: Number of work positions, Length: 1433, dtype: int64\n"
     ]
    }
   ],
   "source": [
    "# print(mh['Which of the following best describes your work position?'].unique())\n",
    "\n",
    "\n",
    "mh['Number of work positions'] =mh ['Which of the following best describes your work position?'].str.count('\\|')\n",
    "mh['Number of work positions'] = mh['Number of work positions'] + 1\n",
    "\n",
    "print(mh['Number of work positions'])"
   ]
  },
  {
   "cell_type": "code",
   "execution_count": 66,
   "metadata": {},
   "outputs": [
    {
     "data": {
      "text/plain": [
       "array(['Sometimes', 'Never', 'Always'], dtype=object)"
      ]
     },
     "execution_count": 66,
     "metadata": {},
     "output_type": "execute_result"
    }
   ],
   "source": [
    "mh['Do you work remotely?'].unique()"
   ]
  },
  {
   "cell_type": "code",
   "execution_count": 67,
   "metadata": {},
   "outputs": [],
   "source": [
    "mh.to_csv('Analysis.csv', sep=',', index=False, encoding='utf-8')\n",
    "\n"
   ]
  }
 ],
 "metadata": {
  "kernelspec": {
   "display_name": "base",
   "language": "python",
   "name": "python3"
  },
  "language_info": {
   "codemirror_mode": {
    "name": "ipython",
    "version": 3
   },
   "file_extension": ".py",
   "mimetype": "text/x-python",
   "name": "python",
   "nbconvert_exporter": "python",
   "pygments_lexer": "ipython3",
   "version": "3.11.5"
  }
 },
 "nbformat": 4,
 "nbformat_minor": 2
}
